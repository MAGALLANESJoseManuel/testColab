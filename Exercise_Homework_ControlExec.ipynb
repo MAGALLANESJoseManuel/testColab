{
  "nbformat": 4,
  "nbformat_minor": 0,
  "metadata": {
    "hide_input": false,
    "kernelspec": {
      "display_name": "Python 3",
      "language": "python",
      "name": "python3"
    },
    "language_info": {
      "codemirror_mode": {
        "name": "ipython",
        "version": 3
      },
      "file_extension": ".py",
      "mimetype": "text/x-python",
      "name": "python",
      "nbconvert_exporter": "python",
      "pygments_lexer": "ipython3",
      "version": "3.6.5"
    },
    "colab": {
      "name": "Exercise_Homework_ControlExec.ipynb",
      "provenance": []
    }
  },
  "cells": [
    {
      "cell_type": "markdown",
      "metadata": {
        "id": "TBgv-U8Rp8Ko",
        "colab_type": "text"
      },
      "source": [
        "## Class exercises:\n",
        "\n",
        "Make a function that:\n",
        "\n",
        "1. Create a **data frame** with this:"
      ]
    },
    {
      "cell_type": "code",
      "metadata": {
        "id": "hCk-kfwop8Kq",
        "colab_type": "code",
        "colab": {}
      },
      "source": [
        "# comment\n",
        "names=[\"Tomás\", \"Pauline\", \"Pablo\", \"Bjork\",\"Alan\",\"Juana\"]\n",
        "\n",
        "woman=[False,True,False,False,False,True]\n",
        "\n",
        "ages=[32,33,28,30,32,27]\n",
        "\n",
        "country=[\"Chile\", \"Senegal\", \"Spain\", \"Norway\",\"Peru\",\"Peru\"]\n",
        "\n",
        "education=[\"Bach\", \"Bach\", \"Master\", \"PhD\",\"Bach\",\"Master\"]"
      ],
      "execution_count": 0,
      "outputs": []
    },
    {
      "cell_type": "code",
      "metadata": {
        "id": "b5rG-Fe5p8Kt",
        "colab_type": "code",
        "colab": {},
        "outputId": "ce7a6042-94b7-4f1d-88eb-e3299782f73c"
      },
      "source": [
        "[x for x in zip(names,ages)]"
      ],
      "execution_count": 0,
      "outputs": [
        {
          "output_type": "execute_result",
          "data": {
            "text/plain": [
              "[('Tomás', 32),\n",
              " ('Pauline', 33),\n",
              " ('Pablo', 28),\n",
              " ('Bjork', 30),\n",
              " ('Alan', 32),\n",
              " ('Juana', 27)]"
            ]
          },
          "metadata": {
            "tags": []
          },
          "execution_count": 54
        }
      ]
    },
    {
      "cell_type": "code",
      "metadata": {
        "id": "OYCmt1DCp8Kw",
        "colab_type": "code",
        "colab": {}
      },
      "source": [
        "data={'names':names, 'ages':ages, 'woman':woman,'country':country, 'education':education}"
      ],
      "execution_count": 0,
      "outputs": []
    },
    {
      "cell_type": "code",
      "metadata": {
        "id": "g0H4HOzRp8Ky",
        "colab_type": "code",
        "colab": {},
        "outputId": "fa2539b8-2db5-45f4-a4fb-c16d06b0cdde"
      },
      "source": [
        "data"
      ],
      "execution_count": 0,
      "outputs": [
        {
          "output_type": "execute_result",
          "data": {
            "text/plain": [
              "{'names': ['Tomás', 'Pauline', 'Pablo', 'Bjork', 'Alan', 'Juana'],\n",
              " 'ages': [32, 33, 28, 30, 32, 27],\n",
              " 'woman': [False, True, False, False, False, True],\n",
              " 'country': ['Chile', 'Senegal', 'Spain', 'Norway', 'Peru', 'Peru'],\n",
              " 'education': ['Bach', 'Bach', 'Master', 'PhD', 'Bach', 'Master']}"
            ]
          },
          "metadata": {
            "tags": []
          },
          "execution_count": 20
        }
      ]
    },
    {
      "cell_type": "code",
      "metadata": {
        "id": "hFHHWutHp8K0",
        "colab_type": "code",
        "colab": {},
        "outputId": "0fbc6eb4-604d-4bd6-b490-30db1e6d1a56"
      },
      "source": [
        "# now in a dict:\n",
        "import pandas\n",
        "\n",
        "friends=pandas.DataFrame(data)\n",
        "# seeing it:\n",
        "friends"
      ],
      "execution_count": 0,
      "outputs": [
        {
          "output_type": "execute_result",
          "data": {
            "text/html": [
              "<div>\n",
              "<style scoped>\n",
              "    .dataframe tbody tr th:only-of-type {\n",
              "        vertical-align: middle;\n",
              "    }\n",
              "\n",
              "    .dataframe tbody tr th {\n",
              "        vertical-align: top;\n",
              "    }\n",
              "\n",
              "    .dataframe thead th {\n",
              "        text-align: right;\n",
              "    }\n",
              "</style>\n",
              "<table border=\"1\" class=\"dataframe\">\n",
              "  <thead>\n",
              "    <tr style=\"text-align: right;\">\n",
              "      <th></th>\n",
              "      <th>names</th>\n",
              "      <th>ages</th>\n",
              "      <th>woman</th>\n",
              "      <th>country</th>\n",
              "      <th>education</th>\n",
              "    </tr>\n",
              "  </thead>\n",
              "  <tbody>\n",
              "    <tr>\n",
              "      <th>0</th>\n",
              "      <td>Tomás</td>\n",
              "      <td>32</td>\n",
              "      <td>False</td>\n",
              "      <td>Chile</td>\n",
              "      <td>Bach</td>\n",
              "    </tr>\n",
              "    <tr>\n",
              "      <th>1</th>\n",
              "      <td>Pauline</td>\n",
              "      <td>33</td>\n",
              "      <td>True</td>\n",
              "      <td>Senegal</td>\n",
              "      <td>Bach</td>\n",
              "    </tr>\n",
              "    <tr>\n",
              "      <th>2</th>\n",
              "      <td>Pablo</td>\n",
              "      <td>28</td>\n",
              "      <td>False</td>\n",
              "      <td>Spain</td>\n",
              "      <td>Master</td>\n",
              "    </tr>\n",
              "    <tr>\n",
              "      <th>3</th>\n",
              "      <td>Bjork</td>\n",
              "      <td>30</td>\n",
              "      <td>False</td>\n",
              "      <td>Norway</td>\n",
              "      <td>PhD</td>\n",
              "    </tr>\n",
              "    <tr>\n",
              "      <th>4</th>\n",
              "      <td>Alan</td>\n",
              "      <td>32</td>\n",
              "      <td>False</td>\n",
              "      <td>Peru</td>\n",
              "      <td>Bach</td>\n",
              "    </tr>\n",
              "    <tr>\n",
              "      <th>5</th>\n",
              "      <td>Juana</td>\n",
              "      <td>27</td>\n",
              "      <td>True</td>\n",
              "      <td>Peru</td>\n",
              "      <td>Master</td>\n",
              "    </tr>\n",
              "  </tbody>\n",
              "</table>\n",
              "</div>"
            ],
            "text/plain": [
              "     names  ages  woman  country education\n",
              "0    Tomás    32  False    Chile      Bach\n",
              "1  Pauline    33   True  Senegal      Bach\n",
              "2    Pablo    28  False    Spain    Master\n",
              "3    Bjork    30  False   Norway       PhD\n",
              "4     Alan    32  False     Peru      Bach\n",
              "5    Juana    27   True     Peru    Master"
            ]
          },
          "metadata": {
            "tags": []
          },
          "execution_count": 21
        }
      ]
    },
    {
      "cell_type": "code",
      "metadata": {
        "id": "gcakOFmnp8K2",
        "colab_type": "code",
        "colab": {},
        "outputId": "32e83a47-933e-4427-fc51-05f50c16d168"
      },
      "source": [
        "type(friends)"
      ],
      "execution_count": 0,
      "outputs": [
        {
          "output_type": "execute_result",
          "data": {
            "text/plain": [
              "pandas.core.frame.DataFrame"
            ]
          },
          "metadata": {
            "tags": []
          },
          "execution_count": 27
        }
      ]
    },
    {
      "cell_type": "markdown",
      "metadata": {
        "id": "5JbLnaAEp8K4",
        "colab_type": "text"
      },
      "source": [
        "* subsetting\n",
        "* control of execution"
      ]
    },
    {
      "cell_type": "code",
      "metadata": {
        "id": "NIZ0APrUp8K5",
        "colab_type": "code",
        "colab": {}
      },
      "source": [
        "oldFriends=friends[friends.ages>30]"
      ],
      "execution_count": 0,
      "outputs": []
    },
    {
      "cell_type": "code",
      "metadata": {
        "id": "ThUKtCA2p8K7",
        "colab_type": "code",
        "colab": {},
        "outputId": "1679d862-b727-4cfc-a686-5114fa1ded2e"
      },
      "source": [
        "friends"
      ],
      "execution_count": 0,
      "outputs": [
        {
          "output_type": "execute_result",
          "data": {
            "text/html": [
              "<div>\n",
              "<style scoped>\n",
              "    .dataframe tbody tr th:only-of-type {\n",
              "        vertical-align: middle;\n",
              "    }\n",
              "\n",
              "    .dataframe tbody tr th {\n",
              "        vertical-align: top;\n",
              "    }\n",
              "\n",
              "    .dataframe thead th {\n",
              "        text-align: right;\n",
              "    }\n",
              "</style>\n",
              "<table border=\"1\" class=\"dataframe\">\n",
              "  <thead>\n",
              "    <tr style=\"text-align: right;\">\n",
              "      <th></th>\n",
              "      <th>names</th>\n",
              "      <th>ages</th>\n",
              "      <th>woman</th>\n",
              "      <th>country</th>\n",
              "      <th>education</th>\n",
              "    </tr>\n",
              "  </thead>\n",
              "  <tbody>\n",
              "    <tr>\n",
              "      <th>0</th>\n",
              "      <td>Tomás</td>\n",
              "      <td>32</td>\n",
              "      <td>False</td>\n",
              "      <td>Chile</td>\n",
              "      <td>Bach</td>\n",
              "    </tr>\n",
              "    <tr>\n",
              "      <th>1</th>\n",
              "      <td>Pauline</td>\n",
              "      <td>33</td>\n",
              "      <td>True</td>\n",
              "      <td>Senegal</td>\n",
              "      <td>Bach</td>\n",
              "    </tr>\n",
              "    <tr>\n",
              "      <th>2</th>\n",
              "      <td>Pablo</td>\n",
              "      <td>28</td>\n",
              "      <td>False</td>\n",
              "      <td>Spain</td>\n",
              "      <td>Master</td>\n",
              "    </tr>\n",
              "    <tr>\n",
              "      <th>3</th>\n",
              "      <td>Bjork</td>\n",
              "      <td>30</td>\n",
              "      <td>False</td>\n",
              "      <td>Norway</td>\n",
              "      <td>PhD</td>\n",
              "    </tr>\n",
              "    <tr>\n",
              "      <th>4</th>\n",
              "      <td>Alan</td>\n",
              "      <td>32</td>\n",
              "      <td>False</td>\n",
              "      <td>Peru</td>\n",
              "      <td>Bach</td>\n",
              "    </tr>\n",
              "    <tr>\n",
              "      <th>5</th>\n",
              "      <td>Juana</td>\n",
              "      <td>27</td>\n",
              "      <td>True</td>\n",
              "      <td>Peru</td>\n",
              "      <td>Master</td>\n",
              "    </tr>\n",
              "  </tbody>\n",
              "</table>\n",
              "</div>"
            ],
            "text/plain": [
              "     names  ages  woman  country education\n",
              "0    Tomás    32  False    Chile      Bach\n",
              "1  Pauline    33   True  Senegal      Bach\n",
              "2    Pablo    28  False    Spain    Master\n",
              "3    Bjork    30  False   Norway       PhD\n",
              "4     Alan    32  False     Peru      Bach\n",
              "5    Juana    27   True     Peru    Master"
            ]
          },
          "metadata": {
            "tags": []
          },
          "execution_count": 35
        }
      ]
    },
    {
      "cell_type": "code",
      "metadata": {
        "id": "BuLwrQMCp8K9",
        "colab_type": "code",
        "colab": {},
        "outputId": "d41af16b-bdcb-4003-b572-f949f9d65ee0"
      },
      "source": [
        "oldFriends"
      ],
      "execution_count": 0,
      "outputs": [
        {
          "output_type": "execute_result",
          "data": {
            "text/html": [
              "<div>\n",
              "<style scoped>\n",
              "    .dataframe tbody tr th:only-of-type {\n",
              "        vertical-align: middle;\n",
              "    }\n",
              "\n",
              "    .dataframe tbody tr th {\n",
              "        vertical-align: top;\n",
              "    }\n",
              "\n",
              "    .dataframe thead th {\n",
              "        text-align: right;\n",
              "    }\n",
              "</style>\n",
              "<table border=\"1\" class=\"dataframe\">\n",
              "  <thead>\n",
              "    <tr style=\"text-align: right;\">\n",
              "      <th></th>\n",
              "      <th>names</th>\n",
              "      <th>ages</th>\n",
              "      <th>woman</th>\n",
              "      <th>country</th>\n",
              "      <th>education</th>\n",
              "    </tr>\n",
              "  </thead>\n",
              "  <tbody>\n",
              "    <tr>\n",
              "      <th>0</th>\n",
              "      <td>Tomás</td>\n",
              "      <td>32</td>\n",
              "      <td>False</td>\n",
              "      <td>Chile</td>\n",
              "      <td>Bach</td>\n",
              "    </tr>\n",
              "    <tr>\n",
              "      <th>1</th>\n",
              "      <td>Pauline</td>\n",
              "      <td>33</td>\n",
              "      <td>True</td>\n",
              "      <td>Senegal</td>\n",
              "      <td>Bach</td>\n",
              "    </tr>\n",
              "    <tr>\n",
              "      <th>4</th>\n",
              "      <td>Alan</td>\n",
              "      <td>32</td>\n",
              "      <td>False</td>\n",
              "      <td>Peru</td>\n",
              "      <td>Bach</td>\n",
              "    </tr>\n",
              "  </tbody>\n",
              "</table>\n",
              "</div>"
            ],
            "text/plain": [
              "     names  ages  woman  country education\n",
              "0    Tomás    32  False    Chile      Bach\n",
              "1  Pauline    33   True  Senegal      Bach\n",
              "4     Alan    32  False     Peru      Bach"
            ]
          },
          "metadata": {
            "tags": []
          },
          "execution_count": 36
        }
      ]
    },
    {
      "cell_type": "code",
      "metadata": {
        "id": "5hmNsF0wp8K_",
        "colab_type": "code",
        "colab": {},
        "outputId": "734ccb11-84ed-44f7-b378-028a94c532e3"
      },
      "source": [
        "[x for x in friends.ages]"
      ],
      "execution_count": 0,
      "outputs": [
        {
          "output_type": "execute_result",
          "data": {
            "text/plain": [
              "[32, 33, 28, 30, 32, 27]"
            ]
          },
          "metadata": {
            "tags": []
          },
          "execution_count": 41
        }
      ]
    },
    {
      "cell_type": "code",
      "metadata": {
        "id": "G-KDwlFBp8LB",
        "colab_type": "code",
        "colab": {},
        "outputId": "d38ab51b-2921-4924-c7fb-da8f01c51189"
      },
      "source": [
        "[x*2 for x in friends.ages]"
      ],
      "execution_count": 0,
      "outputs": [
        {
          "output_type": "execute_result",
          "data": {
            "text/plain": [
              "[64, 66, 56, 60, 64, 54]"
            ]
          },
          "metadata": {
            "tags": []
          },
          "execution_count": 45
        }
      ]
    },
    {
      "cell_type": "code",
      "metadata": {
        "id": "U9tSvd1yp8LD",
        "colab_type": "code",
        "colab": {},
        "outputId": "6ae13d53-08f4-4701-b92b-6558841cb685"
      },
      "source": [
        "list(zip(friends.ages,friends.education))"
      ],
      "execution_count": 0,
      "outputs": [
        {
          "output_type": "execute_result",
          "data": {
            "text/plain": [
              "[(32, 'Bach'),\n",
              " (33, 'Bach'),\n",
              " (28, 'Master'),\n",
              " (30, 'PhD'),\n",
              " (32, 'Bach'),\n",
              " (27, 'Master')]"
            ]
          },
          "metadata": {
            "tags": []
          },
          "execution_count": 47
        }
      ]
    },
    {
      "cell_type": "code",
      "metadata": {
        "id": "SUnKa_i8p8LF",
        "colab_type": "code",
        "colab": {},
        "outputId": "395d1e08-3048-4474-96d9-633f0074ff1a"
      },
      "source": [
        "[x[1] for x in zip(friends.ages,friends.education)]"
      ],
      "execution_count": 0,
      "outputs": [
        {
          "output_type": "execute_result",
          "data": {
            "text/plain": [
              "['Bach', 'Bach', 'Master', 'PhD', 'Bach', 'Master']"
            ]
          },
          "metadata": {
            "tags": []
          },
          "execution_count": 53
        }
      ]
    },
    {
      "cell_type": "code",
      "metadata": {
        "id": "zBzmsaE3p8LH",
        "colab_type": "code",
        "colab": {}
      },
      "source": [
        "xldf=pandas.read_excel(\"testExcel.xlsx\")"
      ],
      "execution_count": 0,
      "outputs": []
    },
    {
      "cell_type": "code",
      "metadata": {
        "id": "sAWkEgTQp8LJ",
        "colab_type": "code",
        "colab": {},
        "outputId": "1daed146-abf9-47aa-a2a2-1e494b8cbd4c"
      },
      "source": [
        "xldf"
      ],
      "execution_count": 0,
      "outputs": [
        {
          "output_type": "execute_result",
          "data": {
            "text/html": [
              "<div>\n",
              "<style scoped>\n",
              "    .dataframe tbody tr th:only-of-type {\n",
              "        vertical-align: middle;\n",
              "    }\n",
              "\n",
              "    .dataframe tbody tr th {\n",
              "        vertical-align: top;\n",
              "    }\n",
              "\n",
              "    .dataframe thead th {\n",
              "        text-align: right;\n",
              "    }\n",
              "</style>\n",
              "<table border=\"1\" class=\"dataframe\">\n",
              "  <thead>\n",
              "    <tr style=\"text-align: right;\">\n",
              "      <th></th>\n",
              "      <th>name</th>\n",
              "      <th>age</th>\n",
              "      <th>city</th>\n",
              "    </tr>\n",
              "  </thead>\n",
              "  <tbody>\n",
              "    <tr>\n",
              "      <th>0</th>\n",
              "      <td>Jim</td>\n",
              "      <td>11.0</td>\n",
              "      <td>Seattle</td>\n",
              "    </tr>\n",
              "    <tr>\n",
              "      <th>1</th>\n",
              "      <td>Mary</td>\n",
              "      <td>NaN</td>\n",
              "      <td>Orlando</td>\n",
              "    </tr>\n",
              "    <tr>\n",
              "      <th>2</th>\n",
              "      <td>John</td>\n",
              "      <td>33.0</td>\n",
              "      <td>NaN</td>\n",
              "    </tr>\n",
              "  </tbody>\n",
              "</table>\n",
              "</div>"
            ],
            "text/plain": [
              "   name   age     city\n",
              "0   Jim  11.0  Seattle\n",
              "1  Mary   NaN  Orlando\n",
              "2  John  33.0      NaN"
            ]
          },
          "metadata": {
            "tags": []
          },
          "execution_count": 26
        }
      ]
    },
    {
      "cell_type": "markdown",
      "metadata": {
        "id": "DLjQ4Lf4p8LL",
        "colab_type": "text"
      },
      "source": [
        "2. Create a list of tuples, where each tuple is a pair (name,country), using comprehensions"
      ]
    },
    {
      "cell_type": "code",
      "metadata": {
        "id": "HRyPTPZdp8LM",
        "colab_type": "code",
        "colab": {},
        "outputId": "80fb9a69-7ca9-48ce-8a71-04cb33f8877e"
      },
      "source": [
        "[(n,c) for n,c in zip(friends.names,friends.country)]"
      ],
      "execution_count": 0,
      "outputs": [
        {
          "output_type": "execute_result",
          "data": {
            "text/plain": [
              "[('Tomás', 'Chile'),\n",
              " ('Pauline', 'Senegal'),\n",
              " ('Pablo', 'Spain'),\n",
              " ('Bjork', 'Norway'),\n",
              " ('Alan', 'Peru'),\n",
              " ('Juana', 'Peru')]"
            ]
          },
          "metadata": {
            "tags": []
          },
          "execution_count": 55
        }
      ]
    },
    {
      "cell_type": "markdown",
      "metadata": {
        "id": "BrQNuEr-p8LO",
        "colab_type": "text"
      },
      "source": [
        "3. Implement a _for_ loop to count how many peruvian there are in the data frame."
      ]
    },
    {
      "cell_type": "code",
      "metadata": {
        "id": "m51b2202p8LP",
        "colab_type": "code",
        "colab": {},
        "outputId": "86e5ff19-fb87-402d-a82b-059c532d316b"
      },
      "source": [
        "counterOfPeruvian=0 # counter \n",
        "\n",
        "for x in friends.country:\n",
        "    print('i got', x)\n",
        "    if x=='Peru':\n",
        "        print('found one', x)\n",
        "        counterOfPeruvian +=1 #updating counter\n",
        "    \n",
        "    else:\n",
        "        print('nope', x)\n",
        "        \n",
        "    print('so far', counterOfPeruvian, ' peruvians')\n",
        "\n",
        "# to see the results:\n",
        "#counterOfPeruvian"
      ],
      "execution_count": 0,
      "outputs": [
        {
          "output_type": "stream",
          "text": [
            "i got Chile\n",
            "nope Chile\n",
            "so far 0  peruvians\n",
            "i got Senegal\n",
            "nope Senegal\n",
            "so far 0  peruvians\n",
            "i got Spain\n",
            "nope Spain\n",
            "so far 0  peruvians\n",
            "i got Norway\n",
            "nope Norway\n",
            "so far 0  peruvians\n",
            "i got Peru\n",
            "found one Peru\n",
            "so far 1  peruvians\n",
            "i got Peru\n",
            "found one Peru\n",
            "so far 2  peruvians\n"
          ],
          "name": "stdout"
        }
      ]
    },
    {
      "cell_type": "code",
      "metadata": {
        "id": "NZ0HhbqKp8LR",
        "colab_type": "code",
        "colab": {},
        "outputId": "b8fa11e0-c7f0-4857-a88c-f7f5c1e7dfcb"
      },
      "source": [
        "len(friends[friends.country=='Peru'])"
      ],
      "execution_count": 0,
      "outputs": [
        {
          "output_type": "execute_result",
          "data": {
            "text/plain": [
              "2"
            ]
          },
          "metadata": {
            "tags": []
          },
          "execution_count": 63
        }
      ]
    },
    {
      "cell_type": "code",
      "metadata": {
        "id": "y4Nt3gAup8LT",
        "colab_type": "code",
        "colab": {},
        "outputId": "f2a41f34-f03d-4115-c026-20016a4508c1"
      },
      "source": [
        "friends[friends.country=='Peru'].shape[0]"
      ],
      "execution_count": 0,
      "outputs": [
        {
          "output_type": "execute_result",
          "data": {
            "text/plain": [
              "2"
            ]
          },
          "metadata": {
            "tags": []
          },
          "execution_count": 70
        }
      ]
    },
    {
      "cell_type": "code",
      "metadata": {
        "id": "Mg1PIET5p8LW",
        "colab_type": "code",
        "colab": {}
      },
      "source": [
        ""
      ],
      "execution_count": 0,
      "outputs": []
    },
    {
      "cell_type": "code",
      "metadata": {
        "id": "KbLVDASUp8LZ",
        "colab_type": "code",
        "colab": {}
      },
      "source": [
        ""
      ],
      "execution_count": 0,
      "outputs": []
    },
    {
      "cell_type": "code",
      "metadata": {
        "id": "ro_ZbPjap8Lb",
        "colab_type": "code",
        "colab": {}
      },
      "source": [
        ""
      ],
      "execution_count": 0,
      "outputs": []
    },
    {
      "cell_type": "code",
      "metadata": {
        "id": "bWyRkH_7p8Lc",
        "colab_type": "code",
        "colab": {}
      },
      "source": [
        ""
      ],
      "execution_count": 0,
      "outputs": []
    },
    {
      "cell_type": "code",
      "metadata": {
        "id": "yCLchurup8Le",
        "colab_type": "code",
        "colab": {}
      },
      "source": [
        ""
      ],
      "execution_count": 0,
      "outputs": []
    },
    {
      "cell_type": "code",
      "metadata": {
        "id": "DgGatOQWp8Lf",
        "colab_type": "code",
        "colab": {}
      },
      "source": [
        ""
      ],
      "execution_count": 0,
      "outputs": []
    },
    {
      "cell_type": "code",
      "metadata": {
        "id": "_8oJkTtlp8Lh",
        "colab_type": "code",
        "colab": {}
      },
      "source": [
        "friends.where(friends.country=='Peru').dropna().shape[0]"
      ],
      "execution_count": 0,
      "outputs": []
    },
    {
      "cell_type": "markdown",
      "metadata": {
        "id": "ylg4iRCup8Li",
        "colab_type": "text"
      },
      "source": [
        "4. Implement a _for_ loop to get the count of men. Try using **not** in one solution and **~** in another one."
      ]
    },
    {
      "cell_type": "code",
      "metadata": {
        "id": "JSZugcR8p8Lj",
        "colab_type": "code",
        "colab": {}
      },
      "source": [
        "counterOfMen=0 # counter \n",
        "\n",
        "for woman in friends.woman:\n",
        "    if woman==False:\n",
        "        counterOfMen +=1 #updating counter\n",
        "\n",
        "# to see the results:\n",
        "counterOfMen"
      ],
      "execution_count": 0,
      "outputs": []
    },
    {
      "cell_type": "code",
      "metadata": {
        "id": "hYjqur0gp8Lk",
        "colab_type": "code",
        "colab": {}
      },
      "source": [
        "counterOfMen=0 # counter \n",
        "\n",
        "for woman in friends.woman:\n",
        "    if not woman:\n",
        "        counterOfMen +=1 #updating counter\n",
        "\n",
        "# to see the results:\n",
        "counterOfMen"
      ],
      "execution_count": 0,
      "outputs": []
    },
    {
      "cell_type": "code",
      "metadata": {
        "id": "afKqbTXRp8Lo",
        "colab_type": "code",
        "colab": {}
      },
      "source": [
        "counterOfMen=0 # counter \n",
        "\n",
        "for man in ~friends.woman:\n",
        "    if man:\n",
        "        counterOfMen +=1 #updating counter\n",
        "\n",
        "# to see the results:\n",
        "counterOfMen"
      ],
      "execution_count": 0,
      "outputs": []
    },
    {
      "cell_type": "code",
      "metadata": {
        "id": "pXWoDzv_p8Lp",
        "colab_type": "code",
        "colab": {},
        "outputId": "8c9bd7eb-2e87-4432-e4eb-f24ce43e0b44"
      },
      "source": [
        "list(zip(friends.woman,~friends.woman))"
      ],
      "execution_count": 0,
      "outputs": [
        {
          "output_type": "execute_result",
          "data": {
            "text/plain": [
              "[(False, True),\n",
              " (True, False),\n",
              " (False, True),\n",
              " (False, True),\n",
              " (False, True),\n",
              " (True, False)]"
            ]
          },
          "metadata": {
            "tags": []
          },
          "execution_count": 75
        }
      ]
    },
    {
      "cell_type": "markdown",
      "metadata": {
        "id": "ebskJ7uAp8Lr",
        "colab_type": "text"
      },
      "source": [
        "## Homework"
      ]
    },
    {
      "cell_type": "markdown",
      "metadata": {
        "id": "4Pn-Z4wfp8Ls",
        "colab_type": "text"
      },
      "source": [
        "1. Implement a _for_ loop to get the count of men that have a Bach degree in the data frame. I recommend the use of **zip** (somwehere)"
      ]
    },
    {
      "cell_type": "code",
      "metadata": {
        "id": "0tuPRme_p8Ls",
        "colab_type": "code",
        "colab": {},
        "outputId": "16d75f10-9357-4713-8456-af141b9aa90f"
      },
      "source": [
        "counterOfMenBach=0 # counter \n",
        "for value in zip(friends.woman,friends.education): \n",
        "    if (value[0]==False) & (value[1]=='Bach'):\n",
        "        counterOfMenBach +=1 #updating counter\n",
        "# to see the results:\n",
        "counterOfMenBach"
      ],
      "execution_count": 0,
      "outputs": [
        {
          "output_type": "execute_result",
          "data": {
            "text/plain": [
              "2"
            ]
          },
          "metadata": {
            "tags": []
          },
          "execution_count": 82
        }
      ]
    },
    {
      "cell_type": "code",
      "metadata": {
        "id": "vvTVuP4Ep8Lt",
        "colab_type": "code",
        "colab": {},
        "outputId": "6e493780-2ec5-4a65-8d20-0c0a732df0c1"
      },
      "source": [
        "counterOfMenBach=0 # counter \n",
        "\n",
        "for value in zip(~friends.woman,friends.education): \n",
        "    if (value[0]==True) & (value[1]=='Bach'):\n",
        "        counterOfMenBach +=1 #updating counter\n",
        "# to see the results:\n",
        "counterOfMenBach"
      ],
      "execution_count": 0,
      "outputs": [
        {
          "output_type": "execute_result",
          "data": {
            "text/plain": [
              "2"
            ]
          },
          "metadata": {
            "tags": []
          },
          "execution_count": 83
        }
      ]
    },
    {
      "cell_type": "code",
      "metadata": {
        "id": "1IDmvA_xp8Lv",
        "colab_type": "code",
        "colab": {},
        "outputId": "66f863aa-ff0e-495f-87d7-3c91e38e71ca"
      },
      "source": [
        "counterOfMenBach=0 # counter \n",
        "\n",
        "for value in zip(~friends.woman,friends.education):\n",
        "    \n",
        "    if (value[0]) & (value[1]=='Bach'):\n",
        "        \n",
        "        counterOfMenBach +=1 #updating counter\n",
        "\n",
        "# to see the results:\n",
        "counterOfMenBach"
      ],
      "execution_count": 0,
      "outputs": [
        {
          "output_type": "execute_result",
          "data": {
            "text/plain": [
              "2"
            ]
          },
          "metadata": {
            "tags": []
          },
          "execution_count": 84
        }
      ]
    },
    {
      "cell_type": "code",
      "metadata": {
        "id": "2L1FMoEzp8Lw",
        "colab_type": "code",
        "colab": {},
        "outputId": "833c40bc-5a01-43c4-9820-6bd5cbac7d95"
      },
      "source": [
        "counterOfMenBach=0 # counter \n",
        "\n",
        "for x,y in zip(~friends.woman,friends.education):\n",
        "\n",
        "    if x and y=='Bach':\n",
        "\n",
        "        counterOfMenBach +=1 #updating counter\n",
        "\n",
        "# to see the results:\n",
        "counterOfMenBach"
      ],
      "execution_count": 0,
      "outputs": [
        {
          "output_type": "execute_result",
          "data": {
            "text/plain": [
              "2"
            ]
          },
          "metadata": {
            "tags": []
          },
          "execution_count": 85
        }
      ]
    },
    {
      "cell_type": "markdown",
      "metadata": {
        "id": "7HZ_vb_Ip8Ly",
        "colab_type": "text"
      },
      "source": [
        "2. Implement a _for_ loop to get the count of people whose current age is an even number."
      ]
    },
    {
      "cell_type": "code",
      "metadata": {
        "id": "HBx7fqStp8Ly",
        "colab_type": "code",
        "colab": {},
        "outputId": "2eaf8742-c3f1-4ae3-887e-f4f1249fd273"
      },
      "source": [
        "counterOfEven=0 # counter \n",
        "\n",
        "for age in friends.ages:\n",
        "    if age%2!=0:\n",
        "        \n",
        "        counterOfEven +=1 #updating counter\n",
        "\n",
        "# to see the results:\n",
        "counterOfEven"
      ],
      "execution_count": 0,
      "outputs": [
        {
          "output_type": "execute_result",
          "data": {
            "text/plain": [
              "2"
            ]
          },
          "metadata": {
            "tags": []
          },
          "execution_count": 87
        }
      ]
    },
    {
      "cell_type": "code",
      "metadata": {
        "id": "tpZxnVgRp8L0",
        "colab_type": "code",
        "colab": {}
      },
      "source": [
        ""
      ],
      "execution_count": 0,
      "outputs": []
    }
  ]
}